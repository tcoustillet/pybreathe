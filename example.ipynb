{
 "cells": [
  {
   "cell_type": "code",
   "execution_count": 1,
   "id": "6aa154bc-3c51-46c0-ba7e-1ef920c91268",
   "metadata": {},
   "outputs": [],
   "source": [
    "from pybreathe import BreathingFlow"
   ]
  },
  {
   "cell_type": "code",
   "execution_count": 2,
   "id": "8d388d92-5767-41e9-babd-54c7e8f83c80",
   "metadata": {},
   "outputs": [],
   "source": [
    "data = BreathingFlow(filename=\"example_airflow.txt\")"
   ]
  },
  {
   "cell_type": "code",
   "execution_count": 3,
   "id": "8b4d3bc4-477c-4e9b-9dcd-4cd882648643",
   "metadata": {},
   "outputs": [
    {
     "data": {
      "text/plain": [
       "array([6.147607, 6.138244, 6.128513, ..., 6.358341, 6.357481, 6.356639],\n",
       "      shape=(70000,))"
      ]
     },
     "execution_count": 3,
     "metadata": {},
     "output_type": "execute_result"
    }
   ],
   "source": [
    "data.flow"
   ]
  },
  {
   "cell_type": "code",
   "execution_count": 4,
   "id": "59ec9479-cb10-4663-b282-1de9c9fe5c8b",
   "metadata": {},
   "outputs": [
    {
     "data": {
      "text/plain": [
       "array([255.   , 255.001, 255.002, ..., 324.997, 324.998, 324.999],\n",
       "      shape=(70000,))"
      ]
     },
     "execution_count": 4,
     "metadata": {},
     "output_type": "execute_result"
    }
   ],
   "source": [
    "data.time"
   ]
  },
  {
   "cell_type": "code",
   "execution_count": 5,
   "id": "626dfa12-9eda-4a7e-a7b4-4e1ea54c139d",
   "metadata": {},
   "outputs": [
    {
     "data": {
      "text/plain": [
       "1000"
      ]
     },
     "execution_count": 5,
     "metadata": {},
     "output_type": "execute_result"
    }
   ],
   "source": [
    "data.get_hz()"
   ]
  },
  {
   "cell_type": "code",
   "execution_count": null,
   "id": "64d43898-3aec-4304-91de-3024b98816f3",
   "metadata": {},
   "outputs": [],
   "source": []
  }
 ],
 "metadata": {
  "kernelspec": {
   "display_name": "venv_pybreathe",
   "language": "python",
   "name": "venv_pybreathe"
  },
  "language_info": {
   "codemirror_mode": {
    "name": "ipython",
    "version": 3
   },
   "file_extension": ".py",
   "mimetype": "text/x-python",
   "name": "python",
   "nbconvert_exporter": "python",
   "pygments_lexer": "ipython3",
   "version": "3.13.2"
  }
 },
 "nbformat": 4,
 "nbformat_minor": 5
}
